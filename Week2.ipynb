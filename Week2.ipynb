{
 "cells": [
  {
   "cell_type": "code",
   "execution_count": null,
   "id": "9309df85",
   "metadata": {},
   "outputs": [],
   "source": [
    "Core data types\n",
    "int\n",
    "float\n",
    "string\n",
    "boolean\n",
    "\n",
    "Structure\n",
    "tuple\n",
    "list\n",
    "dictionary"
   ]
  },
  {
   "cell_type": "code",
   "execution_count": null,
   "id": "319e5e8e",
   "metadata": {},
   "outputs": [],
   "source": [
    "#type() function tells you the type of the data type"
   ]
  },
  {
   "cell_type": "code",
   "execution_count": 1,
   "id": "5bc06b9e",
   "metadata": {},
   "outputs": [
    {
     "data": {
      "text/plain": [
       "2"
      ]
     },
     "execution_count": 1,
     "metadata": {},
     "output_type": "execute_result"
    }
   ],
   "source": [
    "True+True\n"
   ]
  },
  {
   "cell_type": "code",
   "execution_count": 2,
   "id": "f89b323c",
   "metadata": {},
   "outputs": [],
   "source": [
    "a=1,2,3,4,5\n"
   ]
  },
  {
   "cell_type": "code",
   "execution_count": 3,
   "id": "dde627a6",
   "metadata": {},
   "outputs": [
    {
     "name": "stdout",
     "output_type": "stream",
     "text": [
      "(1, 2, 3, 4, 5)\n"
     ]
    }
   ],
   "source": [
    "print(a)"
   ]
  },
  {
   "cell_type": "code",
   "execution_count": null,
   "id": "b87a33e7",
   "metadata": {},
   "outputs": [],
   "source": []
  }
 ],
 "metadata": {
  "kernelspec": {
   "display_name": "Python 3 (ipykernel)",
   "language": "python",
   "name": "python3"
  },
  "language_info": {
   "codemirror_mode": {
    "name": "ipython",
    "version": 3
   },
   "file_extension": ".py",
   "mimetype": "text/x-python",
   "name": "python",
   "nbconvert_exporter": "python",
   "pygments_lexer": "ipython3",
   "version": "3.9.7"
  }
 },
 "nbformat": 4,
 "nbformat_minor": 5
}
