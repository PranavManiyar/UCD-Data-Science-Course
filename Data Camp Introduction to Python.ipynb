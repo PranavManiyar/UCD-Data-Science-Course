{
 "cells": [
  {
   "cell_type": "code",
   "execution_count": 1,
   "id": "a1053bd1",
   "metadata": {},
   "outputs": [],
   "source": [
    "#Functions"
   ]
  },
  {
   "cell_type": "code",
   "execution_count": 3,
   "id": "afb6656b",
   "metadata": {},
   "outputs": [],
   "source": [
    "# Create variables var1 and var2\n",
    "var1 = [1, 2, 3, 4]\n",
    "var2 = True\n"
   ]
  },
  {
   "cell_type": "code",
   "execution_count": 6,
   "id": "3e1a91e8",
   "metadata": {},
   "outputs": [
    {
     "name": "stdout",
     "output_type": "stream",
     "text": [
      "<class 'list'>\n"
     ]
    }
   ],
   "source": [
    "# Print out type of var1\n",
    "print(type(var1))"
   ]
  },
  {
   "cell_type": "code",
   "execution_count": 7,
   "id": "fa4325fd",
   "metadata": {},
   "outputs": [
    {
     "name": "stdout",
     "output_type": "stream",
     "text": [
      "4\n"
     ]
    }
   ],
   "source": [
    "# Print out length of var1\n",
    "print(len(var1))"
   ]
  },
  {
   "cell_type": "code",
   "execution_count": 8,
   "id": "1435b960",
   "metadata": {},
   "outputs": [],
   "source": [
    "# Convert var2 to an integer: out2\n",
    "out2=int(var2)"
   ]
  },
  {
   "cell_type": "code",
   "execution_count": 9,
   "id": "2eba31ef",
   "metadata": {},
   "outputs": [
    {
     "name": "stdout",
     "output_type": "stream",
     "text": [
      "1\n"
     ]
    }
   ],
   "source": [
    "print(out2)"
   ]
  },
  {
   "cell_type": "code",
   "execution_count": 11,
   "id": "5a286db5",
   "metadata": {},
   "outputs": [],
   "source": [
    "?pow"
   ]
  },
  {
   "cell_type": "code",
   "execution_count": 12,
   "id": "acc5b812",
   "metadata": {},
   "outputs": [
    {
     "name": "stdout",
     "output_type": "stream",
     "text": [
      "Help on built-in function sorted in module builtins:\n",
      "\n",
      "sorted(iterable, /, *, key=None, reverse=False)\n",
      "    Return a new list containing all items from the iterable in ascending order.\n",
      "    \n",
      "    A custom key function can be supplied to customize the sort order, and the\n",
      "    reverse flag can be set to request the result in descending order.\n",
      "\n"
     ]
    }
   ],
   "source": [
    "help(sorted)"
   ]
  },
  {
   "cell_type": "code",
   "execution_count": 13,
   "id": "99f1ea49",
   "metadata": {},
   "outputs": [],
   "source": [
    "# Create lists first and second\n",
    "first = [11.25, 18.0, 20.0]\n",
    "second = [10.75, 9.50]"
   ]
  },
  {
   "cell_type": "code",
   "execution_count": 14,
   "id": "c2ce9636",
   "metadata": {},
   "outputs": [],
   "source": [
    "# Paste together first and second: full\n",
    "full=first+second"
   ]
  },
  {
   "cell_type": "code",
   "execution_count": 15,
   "id": "c55c766b",
   "metadata": {},
   "outputs": [
    {
     "name": "stdout",
     "output_type": "stream",
     "text": [
      "[11.25, 18.0, 20.0, 10.75, 9.5]\n"
     ]
    }
   ],
   "source": [
    "print(full)"
   ]
  },
  {
   "cell_type": "code",
   "execution_count": 16,
   "id": "a7417426",
   "metadata": {},
   "outputs": [],
   "source": [
    "# Sort full in descending order: full_sorted\n",
    "full_sorted=sorted(full,reverse=True)"
   ]
  },
  {
   "cell_type": "code",
   "execution_count": 17,
   "id": "18ae5971",
   "metadata": {},
   "outputs": [
    {
     "name": "stdout",
     "output_type": "stream",
     "text": [
      "[20.0, 18.0, 11.25, 10.75, 9.5]\n"
     ]
    }
   ],
   "source": [
    "# Print out full_sorted\n",
    "print(full_sorted)"
   ]
  },
  {
   "cell_type": "code",
   "execution_count": null,
   "id": "83bdb679",
   "metadata": {},
   "outputs": [],
   "source": [
    "#Methods"
   ]
  },
  {
   "cell_type": "code",
   "execution_count": null,
   "id": "3f7d73aa",
   "metadata": {},
   "outputs": [],
   "source": [
    "#String Methods\n",
    "#Strings come with a bunch of methods. Follow the instructions closely to discover some of them. If you want to discover \n",
    "#them in more detail, you can always type help(str) in the IPython Shell.\n",
    "\n",
    "#A string place has already been created for you to experiment with."
   ]
  },
  {
   "cell_type": "code",
   "execution_count": 18,
   "id": "cdd47927",
   "metadata": {},
   "outputs": [],
   "source": [
    "# string to experiment with: place\n",
    "place = \"poolhouse\""
   ]
  },
  {
   "cell_type": "code",
   "execution_count": 19,
   "id": "028e0acd",
   "metadata": {},
   "outputs": [],
   "source": [
    "# Use upper() on place: place_up\n",
    "place_up= place.upper()\n"
   ]
  },
  {
   "cell_type": "code",
   "execution_count": 20,
   "id": "58da3a69",
   "metadata": {},
   "outputs": [
    {
     "name": "stdout",
     "output_type": "stream",
     "text": [
      "poolhouse\n",
      "POOLHOUSE\n"
     ]
    }
   ],
   "source": [
    "# Print out place and place_up\n",
    "print(place);print(place_up)"
   ]
  },
  {
   "cell_type": "code",
   "execution_count": 21,
   "id": "e997eb1c",
   "metadata": {},
   "outputs": [
    {
     "name": "stdout",
     "output_type": "stream",
     "text": [
      "3\n"
     ]
    }
   ],
   "source": [
    "# Print out the number of o's in place\n",
    "print(place.count(\"o\"))"
   ]
  },
  {
   "cell_type": "code",
   "execution_count": null,
   "id": "1d7fdfa1",
   "metadata": {},
   "outputs": [],
   "source": [
    "#List Methods\n",
    "#Strings are not the only Python types that have methods associated with them. Lists, floats, integers and booleans are also types that come packaged with a bunch of useful methods. In this exercise, you'll be experimenting with:\n",
    "\n",
    "#index(), to get the index of the first element of a list that matches its input and\n",
    "#count(), to get the number of times an element appears in a list.\n",
    "#You'll be working on the list with the area of different parts of a house: areas."
   ]
  },
  {
   "cell_type": "code",
   "execution_count": 22,
   "id": "08be65a7",
   "metadata": {},
   "outputs": [],
   "source": [
    "# Create list areas\n",
    "areas = [11.25, 18.0, 20.0, 10.75, 9.50]"
   ]
  },
  {
   "cell_type": "code",
   "execution_count": 23,
   "id": "fe9eef98",
   "metadata": {},
   "outputs": [
    {
     "name": "stdout",
     "output_type": "stream",
     "text": [
      "2\n"
     ]
    }
   ],
   "source": [
    "# Print out the index of the element 20.0\n",
    "print(areas.index(20.0))"
   ]
  },
  {
   "cell_type": "code",
   "execution_count": 24,
   "id": "8c41bf01",
   "metadata": {},
   "outputs": [
    {
     "name": "stdout",
     "output_type": "stream",
     "text": [
      "1\n"
     ]
    }
   ],
   "source": [
    "# Print out how often 9.50 appears in areas\n",
    "print(areas.count(9.50))"
   ]
  },
  {
   "cell_type": "code",
   "execution_count": null,
   "id": "2a06fcdb",
   "metadata": {},
   "outputs": [],
   "source": [
    "#List Methods (2)\n",
    "#Most list methods will change the list they're called on. Examples are:\n",
    "\n",
    "#append(), that adds an element to the list it is called on,\n",
    "#remove(), that removes the first element of a list that matches the input, and\n",
    "#reverse(), that reverses the order of the elements in the list it is called on.\n",
    "#You'll be working on the list with the area of different parts of the house: areas."
   ]
  },
  {
   "cell_type": "code",
   "execution_count": 25,
   "id": "c1f02e2d",
   "metadata": {},
   "outputs": [],
   "source": [
    "# Create list areas\n",
    "areas = [11.25, 18.0, 20.0, 10.75, 9.50]"
   ]
  },
  {
   "cell_type": "code",
   "execution_count": 26,
   "id": "e65c4648",
   "metadata": {},
   "outputs": [],
   "source": [
    "# Use append twice to add poolhouse and garage size\n",
    "areas.append(24.5);areas.append(15.45)"
   ]
  },
  {
   "cell_type": "code",
   "execution_count": 27,
   "id": "2062886a",
   "metadata": {},
   "outputs": [
    {
     "name": "stdout",
     "output_type": "stream",
     "text": [
      "[11.25, 18.0, 20.0, 10.75, 9.5, 24.5, 15.45]\n"
     ]
    }
   ],
   "source": [
    "# Print out areas\n",
    "print(areas)"
   ]
  },
  {
   "cell_type": "code",
   "execution_count": 28,
   "id": "db8f341c",
   "metadata": {},
   "outputs": [],
   "source": [
    "# Reverse the orders of the elements in areas\n",
    "areas.reverse()"
   ]
  },
  {
   "cell_type": "code",
   "execution_count": 29,
   "id": "5b0936e1",
   "metadata": {},
   "outputs": [
    {
     "name": "stdout",
     "output_type": "stream",
     "text": [
      "[15.45, 24.5, 9.5, 10.75, 20.0, 18.0, 11.25]\n"
     ]
    }
   ],
   "source": [
    "# Print out areas\n",
    "print(areas)"
   ]
  },
  {
   "cell_type": "code",
   "execution_count": 31,
   "id": "80213fd1",
   "metadata": {},
   "outputs": [],
   "source": [
    "#Import Packages"
   ]
  },
  {
   "cell_type": "code",
   "execution_count": null,
   "id": "b0913418",
   "metadata": {},
   "outputs": [],
   "source": [
    "import numpy"
   ]
  },
  {
   "cell_type": "code",
   "execution_count": 32,
   "id": "486285f7",
   "metadata": {},
   "outputs": [
    {
     "data": {
      "text/plain": [
       "array([1, 2, 3])"
      ]
     },
     "execution_count": 32,
     "metadata": {},
     "output_type": "execute_result"
    }
   ],
   "source": [
    "numpy.array([1,2,3])"
   ]
  },
  {
   "cell_type": "code",
   "execution_count": 33,
   "id": "dd8127eb",
   "metadata": {},
   "outputs": [
    {
     "data": {
      "text/plain": [
       "array([1, 2, 3])"
      ]
     },
     "execution_count": 33,
     "metadata": {},
     "output_type": "execute_result"
    }
   ],
   "source": [
    "import numpy as np\n",
    "np.array([1,2,3])"
   ]
  },
  {
   "cell_type": "code",
   "execution_count": null,
   "id": "12244bc6",
   "metadata": {},
   "outputs": [],
   "source": [
    "#use only 1 specific function from numpy\n",
    "from numpy import array"
   ]
  },
  {
   "cell_type": "code",
   "execution_count": null,
   "id": "f34c843f",
   "metadata": {},
   "outputs": [],
   "source": [
    "#Import package\n",
    "#As a data scientist, some notions of geometry never hurt. Let's refresh some of the basics.\n",
    "\n",
    "#For a fancy clustering algorithm, you want to find the circumference, , and area, , of a circle. When the radius of the circle is r, you can calculate  and  as:\n",
    "\n",
    "\n",
    "#To use the constant pi, you'll need the math package. A variable r is already coded in the script. Fill in the code to calculate C and A and see how the print() functions create some nice printouts."
   ]
  },
  {
   "cell_type": "code",
   "execution_count": 34,
   "id": "076b113e",
   "metadata": {},
   "outputs": [],
   "source": [
    "# Definition of radius\n",
    "r = 0.43"
   ]
  },
  {
   "cell_type": "code",
   "execution_count": 35,
   "id": "3fd4fdbc",
   "metadata": {},
   "outputs": [],
   "source": [
    "# Import the math package\n",
    "import math"
   ]
  },
  {
   "cell_type": "code",
   "execution_count": 36,
   "id": "325567a4",
   "metadata": {},
   "outputs": [],
   "source": [
    "# Calculate C\n",
    "C = 2*math.pi*r"
   ]
  },
  {
   "cell_type": "code",
   "execution_count": 37,
   "id": "290924f4",
   "metadata": {},
   "outputs": [],
   "source": [
    "# Calculate A\n",
    "A = math.pi*r*r\n"
   ]
  },
  {
   "cell_type": "code",
   "execution_count": 38,
   "id": "4696efe1",
   "metadata": {},
   "outputs": [
    {
     "name": "stdout",
     "output_type": "stream",
     "text": [
      "Circumference: 2.701769682087222\n",
      "Area: 0.5808804816487527\n"
     ]
    }
   ],
   "source": [
    "# Build printout\n",
    "print(\"Circumference: \" + str(C))\n",
    "print(\"Area: \" + str(A))"
   ]
  },
  {
   "cell_type": "code",
   "execution_count": null,
   "id": "51bd62af",
   "metadata": {},
   "outputs": [],
   "source": [
    "#Selective import\n",
    "#General imports, like import math, make all functionality from the math package available to you. However, if you decide to only use a specific part of a package, you can always make your import more selective:"
   ]
  },
  {
   "cell_type": "code",
   "execution_count": null,
   "id": "5e6fe3f4",
   "metadata": {},
   "outputs": [],
   "source": [
    "#Perform a selective import from the math package where you only import the radians function.\n",
    "#Calculate the distance travelled by the Moon over 12 degrees of its orbit. Assign the result to dist. You can calculate this as r * phi, where r is the radius and phi is the angle in radians. To convert an angle in degrees to an angle in radians, use the radians() function, which you just imported.\n",
    "#Print out dist."
   ]
  },
  {
   "cell_type": "code",
   "execution_count": 39,
   "id": "3d676559",
   "metadata": {},
   "outputs": [],
   "source": [
    "# Definition of radius\n",
    "r = 192500"
   ]
  },
  {
   "cell_type": "code",
   "execution_count": 40,
   "id": "3b3143d8",
   "metadata": {},
   "outputs": [],
   "source": [
    "# Import radians function of math package\n",
    "from math import radians"
   ]
  },
  {
   "cell_type": "code",
   "execution_count": 41,
   "id": "83524a65",
   "metadata": {},
   "outputs": [],
   "source": [
    "# Travel distance of Moon over 12 degrees. Store in dist.\n",
    "dist=r*radians(12)"
   ]
  },
  {
   "cell_type": "code",
   "execution_count": 42,
   "id": "806105e7",
   "metadata": {},
   "outputs": [
    {
     "name": "stdout",
     "output_type": "stream",
     "text": [
      "40317.10572106901\n"
     ]
    }
   ],
   "source": [
    "print(dist)"
   ]
  },
  {
   "cell_type": "code",
   "execution_count": null,
   "id": "d473d781",
   "metadata": {},
   "outputs": [],
   "source": [
    "#Numpy\n"
   ]
  },
  {
   "cell_type": "code",
   "execution_count": null,
   "id": "f977ad46",
   "metadata": {},
   "outputs": [],
   "source": [
    "#Your First NumPy Array\n",
    "#In this chapter, we're going to dive into the world of baseball. Along the way, you'll get comfortable with the basics of numpy, a powerful package to do data science.\n",
    "\n",
    "#A list baseball has already been defined in the Python script, representing the height of some baseball players in centimeters. Can you add some code here and there to create a numpy array from it?"
   ]
  },
  {
   "cell_type": "code",
   "execution_count": null,
   "id": "f8c581f6",
   "metadata": {},
   "outputs": [],
   "source": [
    "#Import the numpy package as np, so that you can refer to numpy with np.\n",
    "#Use np.array() to create a numpy array from baseball. Name this array np_baseball.\n",
    "#Print out the type of np_baseball to check that you got it right."
   ]
  },
  {
   "cell_type": "code",
   "execution_count": 43,
   "id": "de571318",
   "metadata": {},
   "outputs": [],
   "source": [
    "# Create list baseball\n",
    "baseball = [180, 215, 210, 210, 188, 176, 209, 200]"
   ]
  },
  {
   "cell_type": "code",
   "execution_count": 8,
   "id": "6d954c59",
   "metadata": {},
   "outputs": [],
   "source": [
    "# Import the numpy package as np\n",
    "import numpy as np"
   ]
  },
  {
   "cell_type": "code",
   "execution_count": 45,
   "id": "c3ebd5b1",
   "metadata": {},
   "outputs": [],
   "source": [
    "# Create a numpy array from baseball: np_baseball\n",
    "np_baseball=np.array(baseball)"
   ]
  },
  {
   "cell_type": "code",
   "execution_count": 46,
   "id": "2564fc1c",
   "metadata": {},
   "outputs": [
    {
     "name": "stdout",
     "output_type": "stream",
     "text": [
      "[180 215 210 210 188 176 209 200]\n"
     ]
    }
   ],
   "source": [
    "print(np_baseball)"
   ]
  },
  {
   "cell_type": "code",
   "execution_count": 47,
   "id": "6da2a1a2",
   "metadata": {},
   "outputs": [
    {
     "name": "stdout",
     "output_type": "stream",
     "text": [
      "<class 'numpy.ndarray'>\n"
     ]
    }
   ],
   "source": [
    "# Print out type of np_baseball\n",
    "print(type(np_baseball))"
   ]
  },
  {
   "cell_type": "code",
   "execution_count": null,
   "id": "bc53a03a",
   "metadata": {},
   "outputs": [],
   "source": [
    "#Baseball players' height\n",
    "#You are a huge baseball fan. You decide to call the MLB (Major League Baseball) and ask around for some more statistics on the height of the main players. They pass along data on more than a thousand players, which is stored as a regular Python list: height_in. The height is expressed in inches. Can you make a numpy array out of it and convert the units to meters?\n",
    "\n",
    "#height_in is already available and the numpy package is loaded, so you can start straight away (Source: stat.ucla.edu)."
   ]
  },
  {
   "cell_type": "code",
   "execution_count": null,
   "id": "c8f21713",
   "metadata": {},
   "outputs": [],
   "source": [
    "#importing CSV file"
   ]
  },
  {
   "cell_type": "code",
   "execution_count": 1,
   "id": "bc8a9bdf",
   "metadata": {},
   "outputs": [],
   "source": [
    "import pandas as pd"
   ]
  },
  {
   "cell_type": "code",
   "execution_count": 4,
   "id": "770b0214",
   "metadata": {},
   "outputs": [
    {
     "data": {
      "text/html": [
       "<div>\n",
       "<style scoped>\n",
       "    .dataframe tbody tr th:only-of-type {\n",
       "        vertical-align: middle;\n",
       "    }\n",
       "\n",
       "    .dataframe tbody tr th {\n",
       "        vertical-align: top;\n",
       "    }\n",
       "\n",
       "    .dataframe thead th {\n",
       "        text-align: right;\n",
       "    }\n",
       "</style>\n",
       "<table border=\"1\" class=\"dataframe\">\n",
       "  <thead>\n",
       "    <tr style=\"text-align: right;\">\n",
       "      <th></th>\n",
       "      <th>Name</th>\n",
       "      <th>Team</th>\n",
       "      <th>Position</th>\n",
       "      <th>Height</th>\n",
       "      <th>Weight</th>\n",
       "      <th>Age</th>\n",
       "      <th>PosCategory</th>\n",
       "    </tr>\n",
       "  </thead>\n",
       "  <tbody>\n",
       "    <tr>\n",
       "      <th>0</th>\n",
       "      <td>Adam_Donachie</td>\n",
       "      <td>BAL</td>\n",
       "      <td>Catcher</td>\n",
       "      <td>74</td>\n",
       "      <td>180</td>\n",
       "      <td>22.99</td>\n",
       "      <td>Catcher</td>\n",
       "    </tr>\n",
       "    <tr>\n",
       "      <th>1</th>\n",
       "      <td>Paul_Bako</td>\n",
       "      <td>BAL</td>\n",
       "      <td>Catcher</td>\n",
       "      <td>74</td>\n",
       "      <td>215</td>\n",
       "      <td>34.69</td>\n",
       "      <td>Catcher</td>\n",
       "    </tr>\n",
       "    <tr>\n",
       "      <th>2</th>\n",
       "      <td>Ramon_Hernandez</td>\n",
       "      <td>BAL</td>\n",
       "      <td>Catcher</td>\n",
       "      <td>72</td>\n",
       "      <td>210</td>\n",
       "      <td>30.78</td>\n",
       "      <td>Catcher</td>\n",
       "    </tr>\n",
       "    <tr>\n",
       "      <th>3</th>\n",
       "      <td>Kevin_Millar</td>\n",
       "      <td>BAL</td>\n",
       "      <td>First_Baseman</td>\n",
       "      <td>72</td>\n",
       "      <td>210</td>\n",
       "      <td>35.43</td>\n",
       "      <td>Infielder</td>\n",
       "    </tr>\n",
       "    <tr>\n",
       "      <th>4</th>\n",
       "      <td>Chris_Gomez</td>\n",
       "      <td>BAL</td>\n",
       "      <td>First_Baseman</td>\n",
       "      <td>73</td>\n",
       "      <td>188</td>\n",
       "      <td>35.71</td>\n",
       "      <td>Infielder</td>\n",
       "    </tr>\n",
       "    <tr>\n",
       "      <th>...</th>\n",
       "      <td>...</td>\n",
       "      <td>...</td>\n",
       "      <td>...</td>\n",
       "      <td>...</td>\n",
       "      <td>...</td>\n",
       "      <td>...</td>\n",
       "      <td>...</td>\n",
       "    </tr>\n",
       "    <tr>\n",
       "      <th>1010</th>\n",
       "      <td>Brad_Thompson</td>\n",
       "      <td>STL</td>\n",
       "      <td>Relief_Pitcher</td>\n",
       "      <td>73</td>\n",
       "      <td>190</td>\n",
       "      <td>25.08</td>\n",
       "      <td>Pitcher</td>\n",
       "    </tr>\n",
       "    <tr>\n",
       "      <th>1011</th>\n",
       "      <td>Tyler_Johnson</td>\n",
       "      <td>STL</td>\n",
       "      <td>Relief_Pitcher</td>\n",
       "      <td>74</td>\n",
       "      <td>180</td>\n",
       "      <td>25.73</td>\n",
       "      <td>Pitcher</td>\n",
       "    </tr>\n",
       "    <tr>\n",
       "      <th>1012</th>\n",
       "      <td>Chris_Narveson</td>\n",
       "      <td>STL</td>\n",
       "      <td>Relief_Pitcher</td>\n",
       "      <td>75</td>\n",
       "      <td>205</td>\n",
       "      <td>25.19</td>\n",
       "      <td>Pitcher</td>\n",
       "    </tr>\n",
       "    <tr>\n",
       "      <th>1013</th>\n",
       "      <td>Randy_Keisler</td>\n",
       "      <td>STL</td>\n",
       "      <td>Relief_Pitcher</td>\n",
       "      <td>75</td>\n",
       "      <td>190</td>\n",
       "      <td>31.01</td>\n",
       "      <td>Pitcher</td>\n",
       "    </tr>\n",
       "    <tr>\n",
       "      <th>1014</th>\n",
       "      <td>Josh_Kinney</td>\n",
       "      <td>STL</td>\n",
       "      <td>Relief_Pitcher</td>\n",
       "      <td>73</td>\n",
       "      <td>195</td>\n",
       "      <td>27.92</td>\n",
       "      <td>Pitcher</td>\n",
       "    </tr>\n",
       "  </tbody>\n",
       "</table>\n",
       "<p>1015 rows × 7 columns</p>\n",
       "</div>"
      ],
      "text/plain": [
       "                 Name Team        Position  Height  Weight    Age PosCategory\n",
       "0       Adam_Donachie  BAL         Catcher      74     180  22.99     Catcher\n",
       "1           Paul_Bako  BAL         Catcher      74     215  34.69     Catcher\n",
       "2     Ramon_Hernandez  BAL         Catcher      72     210  30.78     Catcher\n",
       "3        Kevin_Millar  BAL   First_Baseman      72     210  35.43   Infielder\n",
       "4         Chris_Gomez  BAL   First_Baseman      73     188  35.71   Infielder\n",
       "...               ...  ...             ...     ...     ...    ...         ...\n",
       "1010    Brad_Thompson  STL  Relief_Pitcher      73     190  25.08     Pitcher\n",
       "1011    Tyler_Johnson  STL  Relief_Pitcher      74     180  25.73     Pitcher\n",
       "1012   Chris_Narveson  STL  Relief_Pitcher      75     205  25.19     Pitcher\n",
       "1013    Randy_Keisler  STL  Relief_Pitcher      75     190  31.01     Pitcher\n",
       "1014      Josh_Kinney  STL  Relief_Pitcher      73     195  27.92     Pitcher\n",
       "\n",
       "[1015 rows x 7 columns]"
      ]
     },
     "execution_count": 4,
     "metadata": {},
     "output_type": "execute_result"
    }
   ],
   "source": [
    "df = pd.read_csv(\"baseball.csv\")\n",
    "df"
   ]
  },
  {
   "cell_type": "code",
   "execution_count": 5,
   "id": "13d2ecc2",
   "metadata": {},
   "outputs": [],
   "source": [
    "#convert column to the list\n",
    "hight_in=df['Height'].to_list()"
   ]
  },
  {
   "cell_type": "code",
   "execution_count": 6,
   "id": "fefc0253",
   "metadata": {},
   "outputs": [
    {
     "name": "stdout",
     "output_type": "stream",
     "text": [
      "[74, 74, 72, 72, 73, 69, 69, 71, 76, 71, 73, 73, 74, 74, 69, 70, 73, 75, 78, 79, 76, 74, 76, 72, 71, 75, 77, 74, 73, 74, 78, 73, 75, 73, 75, 75, 74, 69, 71, 74, 73, 73, 76, 74, 74, 70, 72, 77, 74, 70, 73, 75, 76, 76, 78, 74, 74, 76, 77, 81, 78, 75, 77, 75, 76, 74, 72, 72, 75, 73, 73, 73, 70, 70, 70, 76, 68, 71, 72, 75, 75, 75, 75, 68, 74, 78, 71, 73, 76, 74, 74, 79, 75, 73, 76, 74, 74, 73, 72, 74, 73, 74, 72, 73, 69, 72, 73, 75, 75, 73, 72, 72, 76, 74, 72, 77, 74, 77, 75, 76, 80, 74, 74, 75, 78, 73, 73, 74, 75, 76, 71, 73, 74, 76, 76, 74, 73, 74, 70, 72, 73, 73, 73, 73, 71, 74, 74, 72, 74, 71, 74, 73, 75, 75, 79, 73, 75, 76, 74, 76, 78, 74, 76, 72, 74, 76, 74, 75, 78, 75, 72, 74, 72, 74, 70, 71, 70, 75, 71, 71, 73, 72, 71, 73, 72, 75, 74, 74, 75, 73, 77, 73, 76, 75, 74, 76, 75, 73, 71, 76, 75, 72, 71, 77, 73, 74, 71, 72, 74, 75, 73, 72, 75, 75, 74, 72, 74, 71, 70, 74, 77, 77, 75, 75, 78, 75, 76, 73, 75, 75, 79, 77, 76, 71, 75, 74, 69, 71, 76, 72, 72, 70, 72, 73, 71, 72, 71, 73, 72, 73, 74, 74, 72, 75, 74, 74, 77, 75, 73, 72, 71, 74, 77, 75, 75, 75, 78, 78, 74, 76, 78, 76, 70, 72, 80, 74, 74, 71, 70, 72, 71, 74, 71, 72, 71, 74, 69, 76, 75, 75, 76, 73, 76, 73, 77, 73, 72, 72, 77, 77, 71, 74, 74, 73, 78, 75, 73, 70, 74, 72, 73, 73, 75, 75, 74, 76, 73, 74, 75, 75, 72, 73, 73, 72, 74, 78, 76, 73, 74, 75, 70, 75, 71, 72, 78, 75, 73, 73, 71, 75, 77, 72, 69, 73, 74, 72, 70, 75, 70, 72, 72, 74, 73, 74, 76, 75, 80, 72, 75, 73, 74, 74, 73, 75, 75, 71, 73, 75, 74, 74, 72, 74, 74, 74, 73, 76, 75, 72, 73, 73, 73, 72, 72, 72, 72, 71, 75, 75, 74, 73, 75, 79, 74, 76, 73, 74, 74, 72, 74, 74, 75, 78, 74, 74, 74, 77, 70, 73, 74, 73, 71, 75, 71, 72, 77, 74, 70, 77, 73, 72, 76, 71, 76, 78, 75, 73, 78, 74, 79, 75, 76, 72, 75, 75, 70, 72, 70, 74, 71, 76, 73, 76, 71, 69, 72, 72, 69, 73, 69, 73, 74, 74, 72, 71, 72, 72, 76, 76, 76, 74, 76, 75, 71, 72, 71, 73, 75, 76, 75, 71, 75, 74, 72, 73, 73, 73, 73, 76, 72, 76, 73, 73, 73, 75, 75, 77, 73, 72, 75, 70, 74, 72, 80, 71, 71, 74, 74, 73, 75, 76, 73, 77, 72, 73, 77, 76, 71, 75, 73, 74, 77, 71, 72, 73, 69, 73, 70, 74, 76, 73, 73, 75, 73, 79, 74, 73, 74, 77, 75, 74, 73, 77, 73, 77, 74, 74, 73, 77, 74, 77, 75, 77, 75, 71, 74, 70, 79, 72, 72, 70, 74, 74, 72, 73, 72, 74, 74, 76, 82, 74, 74, 70, 73, 73, 74, 77, 72, 76, 73, 73, 72, 74, 74, 71, 72, 75, 74, 74, 77, 70, 71, 73, 76, 71, 75, 74, 72, 76, 79, 76, 73, 76, 78, 75, 76, 72, 72, 73, 73, 75, 71, 76, 70, 75, 74, 75, 73, 71, 71, 72, 73, 73, 72, 69, 73, 78, 71, 73, 75, 76, 70, 74, 77, 75, 79, 72, 77, 73, 75, 75, 75, 73, 73, 76, 77, 75, 70, 71, 71, 75, 74, 69, 70, 75, 72, 75, 73, 72, 72, 72, 76, 75, 74, 69, 73, 72, 72, 75, 77, 76, 80, 77, 76, 79, 71, 75, 73, 76, 77, 73, 76, 70, 75, 73, 75, 70, 69, 71, 72, 72, 73, 70, 70, 73, 76, 75, 72, 73, 79, 71, 72, 74, 74, 74, 72, 76, 76, 72, 72, 71, 72, 72, 70, 77, 74, 72, 76, 71, 76, 71, 73, 70, 73, 73, 72, 71, 71, 71, 72, 72, 74, 74, 74, 71, 72, 75, 72, 71, 72, 72, 72, 72, 74, 74, 77, 75, 73, 75, 73, 76, 72, 77, 75, 72, 71, 71, 75, 72, 73, 73, 71, 70, 75, 71, 76, 73, 68, 71, 72, 74, 77, 72, 76, 78, 81, 72, 73, 76, 72, 72, 74, 76, 73, 76, 75, 70, 71, 74, 72, 73, 76, 76, 73, 71, 68, 71, 71, 74, 77, 69, 72, 76, 75, 76, 75, 76, 72, 74, 76, 74, 72, 75, 78, 77, 70, 72, 79, 74, 71, 68, 77, 75, 71, 72, 70, 72, 72, 73, 72, 74, 72, 72, 75, 72, 73, 74, 72, 78, 75, 72, 74, 75, 75, 76, 74, 74, 73, 74, 71, 74, 75, 76, 74, 76, 76, 73, 75, 75, 74, 68, 72, 75, 71, 70, 72, 73, 72, 75, 74, 70, 76, 71, 82, 72, 73, 74, 71, 75, 77, 72, 74, 72, 73, 78, 77, 73, 73, 73, 73, 73, 76, 75, 70, 73, 72, 73, 75, 74, 73, 73, 76, 73, 75, 70, 77, 72, 77, 74, 75, 75, 75, 75, 72, 74, 71, 76, 71, 75, 76, 83, 75, 74, 76, 72, 72, 75, 75, 72, 77, 73, 72, 70, 74, 72, 74, 72, 71, 70, 71, 76, 74, 76, 74, 74, 74, 75, 75, 71, 71, 74, 77, 71, 74, 75, 77, 76, 74, 76, 72, 71, 72, 75, 73, 68, 72, 69, 73, 73, 75, 70, 70, 74, 75, 74, 74, 73, 74, 75, 77, 73, 74, 76, 74, 75, 73, 76, 78, 75, 73, 77, 74, 72, 74, 72, 71, 73, 75, 73, 67, 67, 76, 74, 73, 70, 75, 70, 72, 77, 79, 78, 74, 75, 75, 78, 76, 75, 69, 75, 72, 75, 73, 74, 75, 75, 73]\n"
     ]
    }
   ],
   "source": [
    "print(hight_in)"
   ]
  },
  {
   "cell_type": "code",
   "execution_count": 9,
   "id": "98edf5ab",
   "metadata": {},
   "outputs": [
    {
     "name": "stdout",
     "output_type": "stream",
     "text": [
      "[74 74 72 ... 75 75 73]\n"
     ]
    }
   ],
   "source": [
    "#create a Numpy Array from the list\n",
    "np_hight_in=np.array(hight_in)\n",
    "print(np_hight_in)"
   ]
  },
  {
   "cell_type": "code",
   "execution_count": 11,
   "id": "a58159ee",
   "metadata": {},
   "outputs": [
    {
     "name": "stdout",
     "output_type": "stream",
     "text": [
      "[1.8796 1.8796 1.8288 ... 1.905  1.905  1.8542]\n"
     ]
    }
   ],
   "source": [
    "# Convert np_height_in to m: np_height_m by multiplaying it with 0.0254\n",
    "np_height_m=np_hight_in*0.0254\n",
    "print(np_height_m)"
   ]
  },
  {
   "cell_type": "code",
   "execution_count": null,
   "id": "c922a997",
   "metadata": {},
   "outputs": [],
   "source": [
    "#Baseball Player's BMI"
   ]
  },
  {
   "cell_type": "code",
   "execution_count": null,
   "id": "8dcdb700",
   "metadata": {},
   "outputs": [],
   "source": [
    "#The MLB also offers to let you analyze their weight data. Again, both are available as regular Python lists: height_in and weight_lb. height_in is in inches and weight_lb is in pounds.\n",
    "\n",
    "#It's now possible to calculate the BMI of each baseball player. Python code to convert height_in to a numpy array with the correct units is already available in the workspace. Follow the instructions step by step and finish the game!"
   ]
  },
  {
   "cell_type": "code",
   "execution_count": 16,
   "id": "5fa4b347",
   "metadata": {},
   "outputs": [
    {
     "name": "stdout",
     "output_type": "stream",
     "text": [
      "[81.64656 97.52228 95.25432 ... 92.98636 86.18248 88.45044]\n"
     ]
    }
   ],
   "source": [
    "#Create a numpy array from the weight_lb list with the correct units. Multiply by 0.453592 to go from pounds to kilograms. Store the resulting numpy array as np_weight_kg.\n",
    "\n",
    "#have to create a list for Weight_lb *** PM COMMENT***\n",
    "\n",
    "weight_lb=df['Weight'].to_list()\n",
    "\n",
    "#creating a numpy array in KG units by multiplying by 0.453592\n",
    "\n",
    "np_weight_kg=np.array(weight_lb)*0.453592\n",
    "\n",
    "print(np_weight_kg)"
   ]
  },
  {
   "cell_type": "code",
   "execution_count": 17,
   "id": "1c24ff52",
   "metadata": {},
   "outputs": [
    {
     "name": "stdout",
     "output_type": "stream",
     "text": [
      "[23.11037639 27.60406069 28.48080465 ... 25.62295933 23.74810865\n",
      " 25.72686361]\n"
     ]
    }
   ],
   "source": [
    "#Use np_height_m and np_weight_kg to calculate the BMI of each player. Use the following equation: BMI=weight(kg)/height(m)2 Save the numpy as BMI\n",
    "\n",
    "BMI=np_weight_kg/np_height_m**2\n",
    "\n",
    "print(BMI)\n",
    "\n"
   ]
  },
  {
   "cell_type": "code",
   "execution_count": null,
   "id": "8acc7a11",
   "metadata": {},
   "outputs": [],
   "source": [
    "#Lightweight baseball players"
   ]
  },
  {
   "cell_type": "code",
   "execution_count": null,
   "id": "ca36f574",
   "metadata": {},
   "outputs": [],
   "source": [
    "#To subset both regular Python lists and numpy arrays, you can use square brackets:\n",
    "\n",
    "#x = [4 , 9 , 6, 3, 1]\n",
    "#x[1]\n",
    "#import numpy as np\n",
    "#y = np.array(x)\n",
    "#y[1]\n",
    "#For numpy specifically, you can also use boolean numpy arrays:\n",
    "\n",
    "#high = y > 5\n",
    "#y[high]\n",
    "#The code that calculates the BMI of all baseball players is already included. Follow the instructions and reveal interesting things from the data!"
   ]
  },
  {
   "cell_type": "code",
   "execution_count": 20,
   "id": "90e362ce",
   "metadata": {},
   "outputs": [
    {
     "name": "stdout",
     "output_type": "stream",
     "text": [
      "[False False False ... False False False]\n",
      "<class 'numpy.ndarray'>\n"
     ]
    }
   ],
   "source": [
    "#Create a boolean numpy array: the element of the array should be True if the corresponding baseball player's BMI is below 21. You can use the < operator for this. Name the array light.\n",
    "\n",
    "#create the light array\n",
    "light=BMI<21\n",
    "\n",
    "print(light)\n",
    "print(type(light))"
   ]
  },
  {
   "cell_type": "code",
   "execution_count": 21,
   "id": "58c84629",
   "metadata": {},
   "outputs": [
    {
     "name": "stdout",
     "output_type": "stream",
     "text": [
      "[20.54255679 20.54255679 20.69282047 20.69282047 20.34343189 20.34343189\n",
      " 20.69282047 20.15883472 19.4984471  20.69282047 20.9205219 ]\n"
     ]
    }
   ],
   "source": [
    "#Print out a numpy array with the BMIs of all baseball players whose BMI is below 21. Use light inside square brackets to do a selection on the bmi array.\n",
    "\n",
    "print(BMI[light])\n"
   ]
  },
  {
   "cell_type": "code",
   "execution_count": 23,
   "id": "c23f344b",
   "metadata": {},
   "outputs": [
    {
     "name": "stdout",
     "output_type": "stream",
     "text": [
      "b\n",
      "b\n"
     ]
    }
   ],
   "source": [
    "x = [\"a\", \"b\", \"c\"]\n",
    "print(x[1])\n",
    "\n",
    "np_x = np.array(x)\n",
    "print(np_x[1])\n"
   ]
  },
  {
   "cell_type": "code",
   "execution_count": null,
   "id": "82f04529",
   "metadata": {},
   "outputs": [],
   "source": [
    "#Your First 2D NumPy Array\n",
    "#Before working on the actual MLB data, let's try to create a 2D numpy array from a small list of lists.\n",
    "\n",
    "#In this exercise, baseball is a list of lists. The main list contains 4 elements. Each of these elements is a list containing the height and the weight of 4 baseball players, in this order. baseball is already coded for you in the script."
   ]
  },
  {
   "cell_type": "code",
   "execution_count": 24,
   "id": "0dbe4faa",
   "metadata": {},
   "outputs": [
    {
     "name": "stdout",
     "output_type": "stream",
     "text": [
      "<class 'numpy.ndarray'>\n",
      "(4, 2)\n"
     ]
    }
   ],
   "source": [
    "# Create baseball, a list of lists\n",
    "baseball = [[180, 78.4],\n",
    "            [215, 102.7],\n",
    "            [210, 98.5],\n",
    "            [188, 75.2]]\n",
    "\n",
    "# Import numpy\n",
    "import numpy as np\n",
    "\n",
    "# Create a 2D numpy array from baseball: np_baseball\n",
    "np_baseball=np.array(baseball)\n",
    "# Print out the type of np_baseball\n",
    "print(type(np_baseball))\n",
    "\n",
    "# Print out the shape of np_baseball\n",
    "print(np_baseball.shape)"
   ]
  },
  {
   "cell_type": "code",
   "execution_count": 25,
   "id": "289791a6",
   "metadata": {},
   "outputs": [
    {
     "name": "stdout",
     "output_type": "stream",
     "text": [
      "[[180, 78.4], [215, 102.7], [210, 98.5], [188, 75.2]]\n"
     ]
    }
   ],
   "source": [
    "print(baseball)"
   ]
  },
  {
   "cell_type": "code",
   "execution_count": 26,
   "id": "67ca0853",
   "metadata": {},
   "outputs": [
    {
     "name": "stdout",
     "output_type": "stream",
     "text": [
      "                 Name Team        Position  Height  Weight    Age PosCategory\n",
      "0       Adam_Donachie  BAL         Catcher      74     180  22.99     Catcher\n",
      "1           Paul_Bako  BAL         Catcher      74     215  34.69     Catcher\n",
      "2     Ramon_Hernandez  BAL         Catcher      72     210  30.78     Catcher\n",
      "3        Kevin_Millar  BAL   First_Baseman      72     210  35.43   Infielder\n",
      "4         Chris_Gomez  BAL   First_Baseman      73     188  35.71   Infielder\n",
      "...               ...  ...             ...     ...     ...    ...         ...\n",
      "1010    Brad_Thompson  STL  Relief_Pitcher      73     190  25.08     Pitcher\n",
      "1011    Tyler_Johnson  STL  Relief_Pitcher      74     180  25.73     Pitcher\n",
      "1012   Chris_Narveson  STL  Relief_Pitcher      75     205  25.19     Pitcher\n",
      "1013    Randy_Keisler  STL  Relief_Pitcher      75     190  31.01     Pitcher\n",
      "1014      Josh_Kinney  STL  Relief_Pitcher      73     195  27.92     Pitcher\n",
      "\n",
      "[1015 rows x 7 columns]\n"
     ]
    }
   ],
   "source": [
    "print(df)"
   ]
  },
  {
   "cell_type": "code",
   "execution_count": 28,
   "id": "47b3d8ec",
   "metadata": {},
   "outputs": [
    {
     "data": {
      "text/plain": [
       "array([[ 2,  4],\n",
       "       [ 6,  8],\n",
       "       [10, 12]])"
      ]
     },
     "execution_count": 28,
     "metadata": {},
     "output_type": "execute_result"
    }
   ],
   "source": [
    "import numpy as np\n",
    "np_mat = np.array([[1, 2],\n",
    "                   [3, 4],\n",
    "                   [5, 6]])\n",
    "np_mat * 2\n"
   ]
  },
  {
   "cell_type": "code",
   "execution_count": 29,
   "id": "c7093226",
   "metadata": {},
   "outputs": [
    {
     "data": {
      "text/plain": [
       "array([[11, 12],\n",
       "       [13, 14],\n",
       "       [15, 16]])"
      ]
     },
     "execution_count": 29,
     "metadata": {},
     "output_type": "execute_result"
    }
   ],
   "source": [
    "np_mat + np.array([10, 10])\n"
   ]
  },
  {
   "cell_type": "code",
   "execution_count": 30,
   "id": "ee5d7ea7",
   "metadata": {},
   "outputs": [
    {
     "data": {
      "text/plain": [
       "array([[ 2,  4],\n",
       "       [ 6,  8],\n",
       "       [10, 12]])"
      ]
     },
     "execution_count": 30,
     "metadata": {},
     "output_type": "execute_result"
    }
   ],
   "source": [
    "np_mat + np_mat"
   ]
  },
  {
   "cell_type": "code",
   "execution_count": 31,
   "id": "0deda87c",
   "metadata": {},
   "outputs": [],
   "source": [
    "import re"
   ]
  },
  {
   "cell_type": "code",
   "execution_count": 32,
   "id": "c1324954",
   "metadata": {},
   "outputs": [
    {
     "name": "stderr",
     "output_type": "stream",
     "text": [
      "ERROR: Could not find a version that satisfies the requirement re (from versions: none)\n",
      "ERROR: No matching distribution found for re\n"
     ]
    }
   ],
   "source": [
    "! pip install re"
   ]
  },
  {
   "cell_type": "code",
   "execution_count": null,
   "id": "193f0cc0",
   "metadata": {},
   "outputs": [],
   "source": []
  }
 ],
 "metadata": {
  "kernelspec": {
   "display_name": "Python 3 (ipykernel)",
   "language": "python",
   "name": "python3"
  },
  "language_info": {
   "codemirror_mode": {
    "name": "ipython",
    "version": 3
   },
   "file_extension": ".py",
   "mimetype": "text/x-python",
   "name": "python",
   "nbconvert_exporter": "python",
   "pygments_lexer": "ipython3",
   "version": "3.9.7"
  }
 },
 "nbformat": 4,
 "nbformat_minor": 5
}
